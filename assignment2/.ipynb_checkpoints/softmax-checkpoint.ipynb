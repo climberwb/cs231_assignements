{
 "cells": [
  {
   "cell_type": "markdown",
   "metadata": {},
   "source": [
    "# Softmax exercise\n",
    "\n",
    "*Complete and hand in this completed worksheet (including its outputs and any supporting code outside of the worksheet) with your assignment submission. For more details see the [assignments page](http://vision.stanford.edu/teaching/cs231n/assignments.html) on the course website.*\n",
    "\n",
    "This exercise is analogous to the SVM exercise. You will:\n",
    "\n",
    "- implement a fully-vectorized **loss function** for the Softmax classifier\n",
    "- implement the fully-vectorized expression for its **analytic gradient**\n",
    "- **check your implementation** with numerical gradient\n",
    "- use a validation set to **tune the learning rate and regularization** strength\n",
    "- **optimize** the loss function with **SGD**\n",
    "- **visualize** the final learned weights\n"
   ]
  },
  {
   "cell_type": "code",
   "execution_count": 1,
   "metadata": {
    "collapsed": false
   },
   "outputs": [],
   "source": [
    "import random\n",
    "import numpy as np\n",
    "from cs231n.data_utils import load_CIFAR10\n",
    "import matplotlib.pyplot as plt\n",
    "%matplotlib inline\n",
    "plt.rcParams['figure.figsize'] = (10.0, 8.0) # set default size of plots\n",
    "plt.rcParams['image.interpolation'] = 'nearest'\n",
    "plt.rcParams['image.cmap'] = 'gray'\n",
    "\n",
    "# for auto-reloading extenrnal modules\n",
    "# see http://stackoverflow.com/questions/1907993/autoreload-of-modules-in-ipython\n",
    "%load_ext autoreload\n",
    "%autoreload 2"
   ]
  },
  {
   "cell_type": "code",
   "execution_count": 2,
   "metadata": {
    "collapsed": false
   },
   "outputs": [
    {
     "name": "stdout",
     "output_type": "stream",
     "text": [
      "Train data shape:  (49000, 3073)\n",
      "Train labels shape:  (49000,)\n",
      "Validation data shape:  (1000, 3073)\n",
      "Validation labels shape:  (1000,)\n",
      "Test data shape:  (1000, 3073)\n",
      "Test labels shape:  (1000,)\n",
      "dev data shape:  (500, 3073)\n",
      "dev labels shape:  (500,)\n"
     ]
    }
   ],
   "source": [
    "def get_CIFAR10_data(num_training=49000, num_validation=1000, num_test=1000, num_dev=500):\n",
    "  \"\"\"\n",
    "  Load the CIFAR-10 dataset from disk and perform preprocessing to prepare\n",
    "  it for the linear classifier. These are the same steps as we used for the\n",
    "  SVM, but condensed to a single function.  \n",
    "  \"\"\"\n",
    "  # Load the raw CIFAR-10 data\n",
    "  cifar10_dir = 'cs231n/datasets/cifar-10-batches-py'\n",
    "  X_train, y_train, X_test, y_test = load_CIFAR10(cifar10_dir)\n",
    "  \n",
    "  # subsample the data\n",
    "  mask = range(num_training, num_training + num_validation)\n",
    "  X_val = X_train[mask]\n",
    "  y_val = y_train[mask]\n",
    "  mask = range(num_training)\n",
    "  X_train = X_train[mask]\n",
    "  y_train = y_train[mask]\n",
    "  mask = range(num_test)\n",
    "  X_test = X_test[mask]\n",
    "  y_test = y_test[mask]\n",
    "  mask = np.random.choice(num_training, num_dev, replace=False)\n",
    "  X_dev = X_train[mask]\n",
    "  y_dev = y_train[mask]\n",
    "  \n",
    "  # Preprocessing: reshape the image data into rows\n",
    "  X_train = np.reshape(X_train, (X_train.shape[0], -1))\n",
    "  X_val = np.reshape(X_val, (X_val.shape[0], -1))\n",
    "  X_test = np.reshape(X_test, (X_test.shape[0], -1))\n",
    "  X_dev = np.reshape(X_dev, (X_dev.shape[0], -1))\n",
    "  \n",
    "  # Normalize the data: subtract the mean image\n",
    "  mean_image = np.mean(X_train, axis = 0)\n",
    "  X_train -= mean_image\n",
    "  X_val -= mean_image\n",
    "  X_test -= mean_image\n",
    "  X_dev -= mean_image\n",
    "  \n",
    "  # add bias dimension and transform into columns\n",
    "  X_train = np.hstack([X_train, np.ones((X_train.shape[0], 1))])\n",
    "  X_val = np.hstack([X_val, np.ones((X_val.shape[0], 1))])\n",
    "  X_test = np.hstack([X_test, np.ones((X_test.shape[0], 1))])\n",
    "  X_dev = np.hstack([X_dev, np.ones((X_dev.shape[0], 1))])\n",
    "  \n",
    "  return X_train, y_train, X_val, y_val, X_test, y_test, X_dev, y_dev\n",
    "\n",
    "\n",
    "# Invoke the above function to get our data.\n",
    "X_train, y_train, X_val, y_val, X_test, y_test, X_dev, y_dev = get_CIFAR10_data()\n",
    "print 'Train data shape: ', X_train.shape\n",
    "print 'Train labels shape: ', y_train.shape\n",
    "print 'Validation data shape: ', X_val.shape\n",
    "print 'Validation labels shape: ', y_val.shape\n",
    "print 'Test data shape: ', X_test.shape\n",
    "print 'Test labels shape: ', y_test.shape\n",
    "print 'dev data shape: ', X_dev.shape\n",
    "print 'dev labels shape: ', y_dev.shape"
   ]
  },
  {
   "cell_type": "markdown",
   "metadata": {},
   "source": [
    "## Softmax Classifier\n",
    "\n",
    "Your code for this section will all be written inside **cs231n/classifiers/softmax.py**. \n"
   ]
  },
  {
   "cell_type": "code",
   "execution_count": 3,
   "metadata": {
    "collapsed": false
   },
   "outputs": [
    {
     "name": "stdout",
     "output_type": "stream",
     "text": [
      "loss: 2.311472\n",
      "sanity check: 2.302585\n"
     ]
    }
   ],
   "source": [
    "# First implement the naive softmax loss function with nested loops.\n",
    "# Open the file cs231n/classifiers/softmax.py and implement the\n",
    "# softmax_loss_naive function.\n",
    "\n",
    "from cs231n.classifiers.softmax import softmax_loss_naive\n",
    "import time\n",
    "\n",
    "# Generate a random softmax weight matrix and use it to compute the loss.\n",
    "W = np.random.randn(3073, 10) * 0.0001\n",
    "loss, grad = softmax_loss_naive(W, X_dev, y_dev, 0.0)\n",
    "\n",
    "# As a rough sanity check, our loss should be something close to -log(0.1).\n",
    "print 'loss: %f' % loss\n",
    "print 'sanity check: %f' % (-np.log(0.1))"
   ]
  },
  {
   "cell_type": "markdown",
   "metadata": {},
   "source": [
    "## Inline Question 1:\n",
    "Why do we expect our loss to be close to -log(0.1)? Explain briefly.**\n",
    "\n",
    "**Your answer:** *Fill this in*\n",
    "We should expect the loss to be -log(0.1) because the weights in W are random. Inside the log is the probability of a given picture being in a certain class. Since there are ten classes the probability for a given picture being in a specified class is 0.1.\n"
   ]
  },
  {
   "cell_type": "code",
   "execution_count": 4,
   "metadata": {
    "collapsed": false
   },
   "outputs": [
    {
     "name": "stdout",
     "output_type": "stream",
     "text": [
      "numerical: -0.323891 analytic: -0.323891, relative error: 5.928543e-08\n",
      "numerical: -0.509927 analytic: -0.509927, relative error: 5.824227e-08\n",
      "numerical: 2.835744 analytic: 2.835744, relative error: 2.068432e-08\n",
      "numerical: -0.058449 analytic: -0.058449, relative error: 6.412365e-07\n",
      "numerical: -1.069168 analytic: -1.069168, relative error: 2.993674e-09\n",
      "numerical: -0.815560 analytic: -0.815560, relative error: 2.082139e-08\n",
      "numerical: -1.433392 analytic: -1.433392, relative error: 2.559595e-09\n",
      "numerical: -1.343171 analytic: -1.343171, relative error: 8.202119e-09\n",
      "numerical: -0.803829 analytic: -0.803829, relative error: 5.702839e-08\n",
      "numerical: -0.076102 analytic: -0.076102, relative error: 2.901331e-07\n",
      "below is with regularization\n",
      "numerical: 1.224250 analytic: 1.224250, relative error: 7.198027e-09\n",
      "numerical: 0.037677 analytic: 0.037677, relative error: 9.146628e-07\n",
      "numerical: 1.659262 analytic: 1.659262, relative error: 1.496823e-08\n",
      "numerical: 1.241457 analytic: 1.241457, relative error: 1.950081e-08\n",
      "numerical: -1.741441 analytic: -1.741441, relative error: 2.347929e-09\n",
      "numerical: -1.237956 analytic: -1.237956, relative error: 1.636400e-08\n",
      "numerical: 2.968943 analytic: 2.968943, relative error: 2.556785e-08\n",
      "numerical: 1.298565 analytic: 1.298565, relative error: 1.915130e-08\n",
      "numerical: -2.247980 analytic: -2.247980, relative error: 1.841436e-08\n",
      "numerical: -1.374786 analytic: -1.374786, relative error: 8.507605e-09\n"
     ]
    }
   ],
   "source": [
    "# Complete the implementation of softmax_loss_naive and implement a (naive)\n",
    "# version of the gradient that uses nested loops.\n",
    "loss, grad = softmax_loss_naive(W, X_dev, y_dev, 0.0)\n",
    "\n",
    "# As we did for the SVM, use numeric gradient checking as a debugging tool.\n",
    "# The numeric gradient should be close to the analytic gradient.\n",
    "from cs231n.gradient_check import grad_check_sparse\n",
    "f = lambda w: softmax_loss_naive(w, X_dev, y_dev, 0.0)[0]\n",
    "grad_numerical = grad_check_sparse(f, W, grad, 10)\n",
    "print 'below is with regularization'\n",
    "# similar to SVM case, do another gradient check with regularization\n",
    "loss, grad = softmax_loss_naive(W, X_dev, y_dev, 1e2)\n",
    "f = lambda w: softmax_loss_naive(w, X_dev, y_dev, 1e2)[0]\n",
    "grad_numerical = grad_check_sparse(f, W, grad, 10)"
   ]
  },
  {
   "cell_type": "code",
   "execution_count": 5,
   "metadata": {
    "collapsed": false
   },
   "outputs": [
    {
     "name": "stdout",
     "output_type": "stream",
     "text": [
      "naive loss: 2.311472e+00 computed in 0.331510s\n",
      "vectorized loss: 2.311472e+00 computed in 0.014177s\n",
      "Loss difference: 0.000000\n",
      "Gradient difference: 0.000000\n"
     ]
    }
   ],
   "source": [
    "# Now that we have a naive implementation of the softmax loss function and its gradient,\n",
    "# implement a vectorized version in softmax_loss_vectorized.\n",
    "# The two versions should compute the same results, but the vectorized version should be\n",
    "# much faster.\n",
    "tic = time.time()\n",
    "loss_naive, grad_naive = softmax_loss_naive(W, X_dev, y_dev, 0.00001)\n",
    "toc = time.time()\n",
    "print 'naive loss: %e computed in %fs' % (loss_naive, toc - tic)\n",
    "\n",
    "from cs231n.classifiers.softmax import softmax_loss_vectorized\n",
    "tic = time.time()\n",
    "loss_vectorized, grad_vectorized = softmax_loss_vectorized(W, X_dev, y_dev, 0.00001)\n",
    "toc = time.time()\n",
    "print 'vectorized loss: %e computed in %fs' % (loss_vectorized, toc - tic)\n",
    "\n",
    "# As we did for the SVM, we use the Frobenius norm to compare the two versions\n",
    "# of the gradient.\n",
    "grad_difference = np.linalg.norm(grad_naive - grad_vectorized, ord='fro')\n",
    "print 'Loss difference: %f' % np.abs(loss_naive - loss_vectorized)\n",
    "print 'Gradient difference: %f' % grad_difference\n"
   ]
  },
  {
   "cell_type": "code",
   "execution_count": 6,
   "metadata": {
    "collapsed": false
   },
   "outputs": [
    {
     "name": "stdout",
     "output_type": "stream",
     "text": [
      "iteration 0 / 1500: loss 786.661635\n",
      "iteration 100 / 1500: loss 288.422197\n",
      "iteration 200 / 1500: loss 106.944020\n",
      "iteration 300 / 1500: loss 40.359968\n",
      "iteration 400 / 1500: loss 16.169444\n",
      "iteration 500 / 1500: loss 7.241240\n",
      "iteration 600 / 1500: loss 3.964236\n",
      "iteration 700 / 1500: loss 2.798971\n",
      "iteration 800 / 1500: loss 2.377578\n",
      "iteration 900 / 1500: loss 2.205642\n",
      "iteration 1000 / 1500: loss 2.114414\n",
      "iteration 1100 / 1500: loss 2.109731\n",
      "iteration 1200 / 1500: loss 2.133493\n",
      "iteration 1300 / 1500: loss 2.091551\n",
      "iteration 1400 / 1500: loss 2.169004\n",
      "iteration 0 / 1500: loss 15451.997540\n",
      "iteration 100 / 1500: loss 2.273199\n",
      "iteration 200 / 1500: loss 2.273094\n",
      "iteration 300 / 1500: loss 2.266335\n",
      "iteration 400 / 1500: loss 2.263103\n",
      "iteration 500 / 1500: loss 2.258742\n",
      "iteration 600 / 1500: loss 2.267101\n",
      "iteration 700 / 1500: loss 2.276308\n",
      "iteration 800 / 1500: loss 2.266096\n",
      "iteration 900 / 1500: loss 2.260374\n",
      "iteration 1000 / 1500: loss 2.264799\n",
      "iteration 1100 / 1500: loss 2.273116\n",
      "iteration 1200 / 1500: loss 2.273977\n",
      "iteration 1300 / 1500: loss 2.266578\n",
      "iteration 1400 / 1500: loss 2.268553\n",
      "iteration 0 / 1500: loss 769.778218\n",
      "iteration 100 / 1500: loss 6.914263\n",
      "iteration 200 / 1500: loss 2.141240\n",
      "iteration 300 / 1500: loss 2.128967\n",
      "iteration 400 / 1500: loss 2.080335\n",
      "iteration 500 / 1500: loss 2.078149\n",
      "iteration 600 / 1500: loss 2.071489\n",
      "iteration 700 / 1500: loss 2.099840\n",
      "iteration 800 / 1500: loss 2.130323\n",
      "iteration 900 / 1500: loss 2.069883\n",
      "iteration 1000 / 1500: loss 2.112943\n",
      "iteration 1100 / 1500: loss 2.092308\n",
      "iteration 1200 / 1500: loss 2.066791\n",
      "iteration 1300 / 1500: loss 2.134943\n",
      "iteration 1400 / 1500: loss 2.039013\n",
      "iteration 0 / 1500: loss 15276.232703\n",
      "iteration 100 / 1500: loss 2.280293\n",
      "iteration 200 / 1500: loss 2.290213\n",
      "iteration 300 / 1500: loss 2.281929\n",
      "iteration 400 / 1500: loss 2.279722\n",
      "iteration 500 / 1500: loss 2.278479\n",
      "iteration 600 / 1500: loss 2.282934\n",
      "iteration 700 / 1500: loss 2.297120\n",
      "iteration 800 / 1500: loss 2.272140\n",
      "iteration 900 / 1500: loss 2.290153\n",
      "iteration 1000 / 1500: loss 2.278153\n",
      "iteration 1100 / 1500: loss 2.272654\n",
      "iteration 1200 / 1500: loss 2.276014\n",
      "iteration 1300 / 1500: loss 2.286891\n",
      "iteration 1400 / 1500: loss 2.272246\n",
      "lr 1.000000e-07 reg 5.000000e+04 train accuracy: 0.330020 val accuracy: 0.343000\n",
      "lr 1.000000e-07 reg 1.000000e+06 train accuracy: 0.255388 val accuracy: 0.273000\n",
      "lr 5.000000e-07 reg 5.000000e+04 train accuracy: 0.324959 val accuracy: 0.339000\n",
      "lr 5.000000e-07 reg 1.000000e+06 train accuracy: 0.234184 val accuracy: 0.254000\n",
      "best validation accuracy achieved during cross-validation: 0.343000\n"
     ]
    }
   ],
   "source": [
    "# Use the validation set to tune hyperparameters (regularization strength and\n",
    "# learning rate). You should experiment with different ranges for the learning\n",
    "# rates and regularization strengths; if you are careful you should be able to\n",
    "# get a classification accuracy of over 0.35 on the validation set.\n",
    "from cs231n.classifiers import Softmax\n",
    "results = {}\n",
    "best_val = -1\n",
    "best_softmax = None\n",
    "learning_rates = [1e-7, 5e-7]\n",
    "regularization_strengths = [5e4, 1e6]\n",
    "\n",
    "################################################################################\n",
    "# TODO:                                                                        #\n",
    "# Use the validation set to set the learning rate and regularization strength. #\n",
    "# This should be identical to the validation that you did for the SVM; save    #\n",
    "# the best trained softmax classifer in best_softmax.                          #\n",
    "################################################################################\n",
    "for learning_rate in learning_rates:\n",
    "    for regularization_strength in regularization_strengths:\n",
    "  \n",
    "  # use a particular value of k and evaluation on validation data\n",
    "    \n",
    "        l_softmax = Softmax()\n",
    "        loss_hist = l_softmax.train(X_train, y_train, learning_rate=learning_rate, reg=regularization_strength,\n",
    "                          num_iters=1500, verbose=True)\n",
    "\n",
    "        Yval_predict = l_softmax.predict(X_val)\n",
    "        Ytrain_predict = l_softmax.predict(X_train)\n",
    "        validation_accuracy  = np.mean(Yval_predict == y_val)\n",
    "        training_accuracy = np.mean(Ytrain_predict == y_train)\n",
    "#         print 'val_accuracy: %f train_acc %f' % (validation_accuracy,training_accuracy)\n",
    "        results[(learning_rate,regularization_strength)] = (training_accuracy, validation_accuracy)\n",
    "\n",
    "        if validation_accuracy > best_val:\n",
    "            best_val = validation_accuracy\n",
    "            best_softmax = l_softmax\n",
    "################################################################################\n",
    "#                              END OF YOUR CODE                                #\n",
    "################################################################################\n",
    "    \n",
    "# Print out results.\n",
    "for lr, reg in sorted(results):\n",
    "    train_accuracy, val_accuracy = results[(lr, reg)]\n",
    "    print 'lr %e reg %e train accuracy: %f val accuracy: %f' % (\n",
    "                lr, reg, train_accuracy, val_accuracy)\n",
    "    \n",
    "print 'best validation accuracy achieved during cross-validation: %f' % best_val"
   ]
  },
  {
   "cell_type": "code",
   "execution_count": 7,
   "metadata": {
    "collapsed": false
   },
   "outputs": [
    {
     "name": "stdout",
     "output_type": "stream",
     "text": [
      "softmax on raw pixels final test set accuracy: 0.344000\n"
     ]
    }
   ],
   "source": [
    "# evaluate on test set\n",
    "# Evaluate the best softmax on test set\n",
    "y_test_pred = best_softmax.predict(X_test)\n",
    "test_accuracy = np.mean(y_test == y_test_pred)\n",
    "print 'softmax on raw pixels final test set accuracy: %f' % (test_accuracy, )"
   ]
  },
  {
   "cell_type": "code",
   "execution_count": 8,
   "metadata": {
    "collapsed": false
   },
   "outputs": [
    {
     "data": {
      "image/png": "[encoded data removed]",
      "text/plain": [
       "<matplotlib.figure.Figure at 0x1049fb850>"
      ]
     },
     "metadata": {},
     "output_type": "display_data"
    }
   ],
   "source": [
    "# Visualize the learned weights for each class\n",
    "w = best_softmax.W[:-1,:] # strip out the bias\n",
    "w = w.reshape(32, 32, 3, 10)\n",
    "\n",
    "w_min, w_max = np.min(w), np.max(w)\n",
    "\n",
    "classes = ['plane', 'car', 'bird', 'cat', 'deer', 'dog', 'frog', 'horse', 'ship', 'truck']\n",
    "for i in xrange(10):\n",
    "  plt.subplot(2, 5, i + 1)\n",
    "  \n",
    "  # Rescale the weights to be between 0 and 255\n",
    "  wimg = 255.0 * (w[:, :, :, i].squeeze() - w_min) / (w_max - w_min)\n",
    "  plt.imshow(wimg.astype('uint8'))\n",
    "  plt.axis('off')\n",
    "  plt.title(classes[i])"
   ]
  },
  {
   "cell_type": "code",
   "execution_count": null,
   "metadata": {
    "collapsed": true
   },
   "outputs": [],
   "source": []
  },
  {
   "cell_type": "code",
   "execution_count": null,
   "metadata": {
    "collapsed": true
   },
   "outputs": [],
   "source": []
  }
 ],
 "metadata": {
  "anaconda-cloud": {},
  "kernelspec": {
   "display_name": "Python 2",
   "language": "python",
   "name": "python2"
  },
  "language_info": {
   "codemirror_mode": {
    "name": "ipython",
    "version": 2
   },
   "file_extension": ".py",
   "mimetype": "text/x-python",
   "name": "python",
   "nbconvert_exporter": "python",
   "pygments_lexer": "ipython2",
   "version": "2.7.2"
  }
 },
 "nbformat": 4,
 "nbformat_minor": 0
}
