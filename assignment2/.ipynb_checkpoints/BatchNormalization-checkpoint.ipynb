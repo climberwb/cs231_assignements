{
 "cells": [
  {
   "cell_type": "markdown",
   "metadata": {},
   "source": [
    "# Batch Normalization\n",
    "One way to make deep networks easier to train is to use more sophisticated optimization procedures such as SGD+momentum, RMSProp, or Adam. Another strategy is to change the architecture of the network to make it easier to train. One idea along these lines is batch normalization which was recently proposed by [3].\n",
    "\n",
    "The idea is relatively straightforward. Machine learning methods tend to work better when their input data consists of uncorrelated features with zero mean and unit variance. When training a neural network, we can preprocess the data before feeding it to the network to explicitly decorrelate its features; this will ensure that the first layer of the network sees data that follows a nice distribution. However even if we preprocess the input data, the activations at deeper layers of the network will likely no longer be decorrelated and will no longer have zero mean or unit variance since they are output from earlier layers in the network. Even worse, during the training process the distribution of features at each layer of the network will shift as the weights of each layer are updated.\n",
    "\n",
    "The authors of [3] hypothesize that the shifting distribution of features inside deep neural networks may make training deep networks more difficult. To overcome this problem, [3] proposes to insert batch normalization layers into the network. At training time, a batch normalization layer uses a minibatch of data to estimate the mean and standard deviation of each feature. These estimated means and standard deviations are then used to center and normalize the features of the minibatch. A running average of these means and standard deviations is kept during training, and at test time these running averages are used to center and normalize features.\n",
    "\n",
    "It is possible that this normalization strategy could reduce the representational power of the network, since it may sometimes be optimal for certain layers to have features that are not zero-mean or unit variance. To this end, the batch normalization layer includes learnable shift and scale parameters for each feature dimension.\n",
    "\n",
    "[3] Sergey Ioffe and Christian Szegedy, \"Batch Normalization: Accelerating Deep Network Training by Reducing\n",
    "Internal Covariate Shift\", ICML 2015."
   ]
  },
  {
   "cell_type": "code",
   "execution_count": 3,
   "metadata": {
    "collapsed": false
   },
   "outputs": [
    {
     "name": "stdout",
     "output_type": "stream",
     "text": [
      "run the following from the cs231n directory and try again:\n",
      "python setup.py build_ext --inplace\n",
      "You may also need to restart your iPython kernel\n"
     ]
    }
   ],
   "source": [
    "# As usual, a bit of setup\n",
    "\n",
    "import time\n",
    "import numpy as np\n",
    "import matplotlib.pyplot as plt\n",
    "from cs231n.classifiers.fc_net import *\n",
    "from cs231n.data_utils import get_CIFAR10_data\n",
    "from cs231n.gradient_check import eval_numerical_gradient, eval_numerical_gradient_array\n",
    "from cs231n.solver import Solver\n",
    "\n",
    "%matplotlib inline\n",
    "plt.rcParams['figure.figsize'] = (10.0, 8.0) # set default size of plots\n",
    "plt.rcParams['image.interpolation'] = 'nearest'\n",
    "plt.rcParams['image.cmap'] = 'gray'\n",
    "\n",
    "# for auto-reloading external modules\n",
    "# see http://stackoverflow.com/questions/1907993/autoreload-of-modules-in-ipython\n",
    "%load_ext autoreload\n",
    "%autoreload 2\n",
    "\n",
    "def rel_error(x, y):\n",
    "  \"\"\" returns relative error \"\"\"\n",
    "  return np.max(np.abs(x - y) / (np.maximum(1e-8, np.abs(x) + np.abs(y))))"
   ]
  },
  {
   "cell_type": "code",
   "execution_count": 4,
   "metadata": {
    "collapsed": false
   },
   "outputs": [
    {
     "name": "stdout",
     "output_type": "stream",
     "text": [
      "X_val:  (1000, 3, 32, 32)\n",
      "X_train:  (49000, 3, 32, 32)\n",
      "X_test:  (1000, 3, 32, 32)\n",
      "y_val:  (1000,)\n",
      "y_train:  (49000,)\n",
      "y_test:  (1000,)\n"
     ]
    }
   ],
   "source": [
    "# Load the (preprocessed) CIFAR10 data.\n",
    "\n",
    "data = get_CIFAR10_data()\n",
    "for k, v in data.iteritems():\n",
    "  print '%s: ' % k, v.shape"
   ]
  },
  {
   "cell_type": "markdown",
   "metadata": {},
   "source": [
    "## Batch normalization: Forward\n",
    "In the file `cs231n/layers.py`, implement the batch normalization forward pass in the function `batchnorm_forward`. Once you have done so, run the following to test your implementation."
   ]
  },
  {
   "cell_type": "code",
   "execution_count": 5,
   "metadata": {
    "collapsed": false
   },
   "outputs": [
    {
     "name": "stdout",
     "output_type": "stream",
     "text": [
      "Before batch normalization:\n",
      "  means:  [-10.37533425  23.18329461  -7.44693392]\n",
      "  stds:  [ 34.69274857  31.63272874  33.09031271]\n",
      "After batch normalization (gamma=1, beta=0)\n",
      "  mean:  [ -9.38138456e-17  -2.58126853e-16  -1.55431223e-17]\n",
      "  std:  [ 1.  1.  1.]\n",
      "After batch normalization (nontrivial gamma, beta)\n",
      "  means:  [ 11.  12.  13.]\n",
      "  stds:  [ 1.          1.99999999  2.99999999]\n"
     ]
    }
   ],
   "source": [
    "# Check the training-time forward pass by checking means and variances\n",
    "# of features both before and after batch normalization\n",
    "\n",
    "# Simulate the forward pass for a two-layer network\n",
    "N, D1, D2, D3 = 200, 50, 60, 3\n",
    "X = np.random.randn(N, D1)\n",
    "W1 = np.random.randn(D1, D2)\n",
    "W2 = np.random.randn(D2, D3)\n",
    "a = np.maximum(0, X.dot(W1)).dot(W2)\n",
    "\n",
    "print 'Before batch normalization:'\n",
    "print '  means: ', a.mean(axis=0)\n",
    "print '  stds: ', a.std(axis=0)\n",
    "\n",
    "# Means should be close to zero and stds close to one\n",
    "print 'After batch normalization (gamma=1, beta=0)'\n",
    "a_norm, _ = batchnorm_forward(a, np.ones(D3), np.zeros(D3), {'mode': 'train'})\n",
    "print '  mean: ', a_norm.mean(axis=0)\n",
    "print '  std: ', a_norm.std(axis=0)\n",
    "\n",
    "# Now means should be close to beta and stds close to gamma\n",
    "gamma = np.asarray([1.0, 2.0, 3.0])\n",
    "beta = np.asarray([11.0, 12.0, 13.0])\n",
    "a_norm, _ = batchnorm_forward(a, gamma, beta, {'mode': 'train'})\n",
    "print 'After batch normalization (nontrivial gamma, beta)'\n",
    "print '  means: ', a_norm.mean(axis=0)\n",
    "print '  stds: ', a_norm.std(axis=0)"
   ]
  },
  {
   "cell_type": "code",
   "execution_count": 6,
   "metadata": {
    "collapsed": false
   },
   "outputs": [
    {
     "name": "stdout",
     "output_type": "stream",
     "text": [
      "After batch normalization (test-time):\n",
      "  means:  [ 0.09494629 -0.08153133  0.05932916]\n",
      "  stds:  [ 0.97024431  1.09601409  0.94152315]\n"
     ]
    }
   ],
   "source": [
    "# Check the test-time forward pass by running the training-time\n",
    "# forward pass many times to warm up the running averages, and then\n",
    "# checking the means and variances of activations after a test-time\n",
    "# forward pass.\n",
    "\n",
    "N, D1, D2, D3 = 200, 50, 60, 3\n",
    "W1 = np.random.randn(D1, D2)\n",
    "W2 = np.random.randn(D2, D3)\n",
    "\n",
    "bn_param = {'mode': 'train'}\n",
    "gamma = np.ones(D3)\n",
    "beta = np.zeros(D3)\n",
    "for t in xrange(50):\n",
    "  X = np.random.randn(N, D1)\n",
    "  a = np.maximum(0, X.dot(W1)).dot(W2)\n",
    "  batchnorm_forward(a, gamma, beta, bn_param)\n",
    "bn_param['mode'] = 'test'\n",
    "X = np.random.randn(N, D1)\n",
    "a = np.maximum(0, X.dot(W1)).dot(W2)\n",
    "a_norm, _ = batchnorm_forward(a, gamma, beta, bn_param)\n",
    "\n",
    "# Means should be close to zero and stds close to one, but will be\n",
    "# noisier than training-time forward passes.\n",
    "print 'After batch normalization (test-time):'\n",
    "print '  means: ', a_norm.mean(axis=0)\n",
    "print '  stds: ', a_norm.std(axis=0)"
   ]
  },
  {
   "cell_type": "markdown",
   "metadata": {},
   "source": [
    "## Batch Normalization: backward\n",
    "Now implement the backward pass for batch normalization in the function `batchnorm_backward`.\n",
    "\n",
    "To derive the backward pass you should write out the computation graph for batch normalization and backprop through each of the intermediate nodes. Some intermediates may have multiple outgoing branches; make sure to sum gradients across these branches in the backward pass.\n",
    "\n",
    "Once you have finished, run the following to numerically check your backward pass."
   ]
  },
  {
   "cell_type": "code",
   "execution_count": 60,
   "metadata": {
    "collapsed": false
   },
   "outputs": [
    {
     "name": "stdout",
     "output_type": "stream",
     "text": [
      "(5,)\n",
      "[[-8.50179649  0.11563441  0.93449662  9.44427395  0.0970956 ]\n",
      " [-8.51458111  0.12742335  0.75732553  9.44327957  0.14720293]\n",
      " [-8.49448634  0.11504599  0.87146144  9.44811311  0.08878244]\n",
      " [-8.52980231  0.12256283  0.76491443  9.44095351  0.13048772]]\n",
      "[[  8.63069144e-02  -1.10124219e-02   3.86406376e-01   2.29436396e-02\n",
      "   -4.75883731e-02]\n",
      " [ -1.22348864e-01   3.49487606e-02  -2.13141533e-01  -1.71445569e-02\n",
      "    5.91886171e-02]\n",
      " [  8.34283432e-02  -3.75140976e-02  -1.73223298e-01   3.13831622e-02\n",
      "   -1.15091537e-01]\n",
      " [ -4.73863936e-02   1.35777589e-02  -4.15462174e-05  -3.71822450e-02\n",
      "    1.03491293e-01]]\n",
      "dx error:  1.0\n",
      "dgamma error:  1.61635574253e-11\n",
      "dbeta error:  3.27548111709e-12\n"
     ]
    },
    {
     "name": "stderr",
     "output_type": "stream",
     "text": [
      "[autoreload of cs231n.layers failed: Traceback (most recent call last):\n",
      "  File \"/Users/warren/Desktop/cs231_assignements/assignment2/.env/lib/python2.7/site-packages/IPython/extensions/autoreload.py\", line 247, in check\n",
      "    superreload(m, reload, self.old_objects)\n",
      "  File \"cs231n/layers.py\", line 267\n",
      "    dl_mean = np.sum(dl_dx_hat * -1*((sample_var+eps)**--1/2),axis=0) + (dl_dvar/N) * np.sum(-2*(x-mean_x)),axis=0)\n",
      "                                                                                                                  ^\n",
      "SyntaxError: invalid syntax\n",
      "]\n"
     ]
    }
   ],
   "source": [
    "# Gradient check batchnorm backward pass\n",
    "\n",
    "N, D = 4, 5\n",
    "x = 5 * np.random.randn(N, D) + 12\n",
    "gamma = np.random.randn(D)\n",
    "beta = np.random.randn(D)\n",
    "dout = np.random.randn(N, D)\n",
    "\n",
    "bn_param = {'mode': 'train'}\n",
    "fx = lambda x: batchnorm_forward(x, gamma, beta, bn_param)[0]\n",
    "fg = lambda a: batchnorm_forward(x, gamma, beta, bn_param)[0]\n",
    "fb = lambda b: batchnorm_forward(x, gamma, beta, bn_param)[0]\n",
    "\n",
    "dx_num = eval_numerical_gradient_array(fx, x, dout)\n",
    "da_num = eval_numerical_gradient_array(fg, gamma, dout)\n",
    "db_num = eval_numerical_gradient_array(fb, beta, dout)\n",
    "\n",
    "_, cache = batchnorm_forward(x, gamma, beta, bn_param)\n",
    "dx, dgamma, dbeta = batchnorm_backward(dout, cache)\n",
    "\n",
    "\n",
    "print 'dx error: ', rel_error(dx_num, dx)\n",
    "print 'dgamma error: ', rel_error(da_num, dgamma)\n",
    "print 'dbeta error: ', rel_error(db_num, dbeta)"
   ]
  },
  {
   "cell_type": "markdown",
   "metadata": {},
   "source": [
    "## Batch Normalization: alternative backward\n",
    "In class we talked about two different implementations for the sigmoid backward pass. One strategy is to write out a computation graph composed of simple operations and backprop through all intermediate values. Another strategy is to work out the derivatives on paper. For the sigmoid function, it turns out that you can derive a very simple formula for the backward pass by simplifying gradients on paper.\n",
    "\n",
    "Surprisingly, it turns out that you can also derive a simple expression for the batch normalization backward pass if you work out derivatives on paper and simplify. After doing so, implement the simplified batch normalization backward pass in the function `batchnorm_backward_alt` and compare the two implementations by running the following. Your two implementations should compute nearly identical results, but the alternative implementation should be a bit faster.\n",
    "\n",
    "NOTE: You can still complete the rest of the assignment if you don't figure this part out, so don't worry too much if you can't get it."
   ]
  },
  {
   "cell_type": "code",
   "execution_count": 53,
   "metadata": {
    "collapsed": false
   },
   "outputs": [
    {
     "name": "stdout",
     "output_type": "stream",
     "text": [
      " [  1.66655638e-03  -2.77298696e-04  -3.83698381e-04  -3.87121072e-05\n",
      "  -1.08259968e-04  -5.35572428e-05   4.90515493e-04  -2.97812814e-05\n",
      "   7.86623497e-05   5.09820309e-04  -8.61768092e-04   1.97644521e-05\n",
      "  -6.34220914e-04   2.95952772e-05   1.30976552e-05   3.53565524e-04\n",
      "   2.14199063e-04  -4.51112440e-04   1.81924768e-04  -4.17882118e-04\n",
      "  -5.17883978e-04   1.22479709e-03   1.47912365e-04   8.28750907e-04\n",
      "  -6.82237510e-04  -3.05289503e-04   1.58450646e-04  -6.02080973e-04\n",
      "  -4.80996463e-04   8.19616748e-03   8.59932346e-04   6.41817539e-06\n",
      "   1.32745174e-03   1.61409023e-04  -8.84832660e-05  -5.97835873e-05\n",
      "  -1.26754087e-04   9.36215865e-04  -1.01038151e-03  -1.06225249e-04\n",
      "   2.46596533e-05   1.07454970e-03  -3.79541406e-04   1.38289173e-04\n",
      "  -2.36317825e-04  -1.58480155e-03  -1.20850449e-04   4.99608531e-04\n",
      "   1.04881417e-03   3.52289969e-05  -1.76910937e-03   8.32187515e-04\n",
      "   1.18360557e-04   4.81321145e-05   6.09319326e-06   2.28676075e-04\n",
      "  -1.19010252e-04   3.46852453e-04   2.51233435e-05  -6.29647819e-05\n",
      "   1.20497921e-04  -6.24871568e-04   4.93266245e-04  -1.88173271e-04\n",
      "   8.82951128e-04  -5.30339657e-04  -2.56274273e-03  -4.07676493e-04\n",
      "   1.99508578e-04  -2.63225448e-03   3.76195951e-03  -7.78259122e-04\n",
      "  -1.92521348e-04   4.30146395e-04   1.47573571e-06  -7.81854330e-04\n",
      "   2.73266653e-04   3.40065469e-04   3.15282371e-05   2.98282216e-04\n",
      "  -2.89848093e-05  -1.95143232e-03  -7.89884210e-06   1.20407490e-04\n",
      "   5.95134463e-04  -3.10949566e-04  -2.14324848e-03  -3.43409144e-04\n",
      "  -1.36008609e-05   1.25410161e-05   1.19638625e-05   2.81160392e-04\n",
      "   1.17744336e-03  -2.68158242e-05   1.12083009e-04   1.38059075e-04\n",
      "   8.73731741e-04  -2.80819444e-03   1.06628803e-03  -3.01528130e-04\n",
      "   2.24196969e-04  -1.05973858e-03  -2.91804364e-06  -2.60629679e-05\n",
      "   1.63173173e-03  -4.65034953e-04  -4.79419466e-04   1.78793960e-05\n",
      "   3.19269020e-06   2.59040083e-04   4.79449314e-04   8.30058871e-04\n",
      "   7.98657401e-05  -4.58148103e-04   1.26331256e-04  -9.31449119e-04\n",
      "  -2.29061007e-03  -2.83429579e-04  -1.21518499e-04  -2.81181839e-04\n",
      "  -1.29550434e-03   2.75667673e-04   6.37733031e-03   2.03640470e-05\n",
      "   2.72053688e-04  -1.82745740e-04  -1.35111248e-04   1.36415195e-03\n",
      "  -1.64188548e-04  -6.05491083e-04  -2.86809687e-04   8.12855696e-04\n",
      "   1.38767609e-04  -2.33554085e-03  -3.98028953e-04   8.23884294e-07\n",
      "  -6.24611929e-04  -2.97109252e-05  -5.81974984e-04  -4.75908747e-04\n",
      "  -9.90539155e-07  -9.58013080e-06   8.43360636e-04  -1.14790888e-04\n",
      "   7.07821507e-04  -4.79010137e-06  -6.54744635e-05  -9.76718765e-04\n",
      "   9.73261186e-04   2.73010782e-04   1.47139235e-03   1.94317885e-06\n",
      "  -4.44188731e-03  -7.37077643e-04   1.37983539e-05  -7.48784188e-05\n",
      "   1.08195146e-04   9.94582615e-05   1.93100901e-04  -9.29439377e-06\n",
      "  -4.69673939e-05   1.06145627e-05   1.50677227e-03  -9.67863597e-05\n",
      "  -2.02541888e-05  -3.33011553e-05  -2.02779514e-04  -2.86675485e-05\n",
      "  -4.25959840e-04  -2.81241400e-05   3.20746159e-04   1.13100376e-03\n",
      "  -5.35103493e-05   6.95851149e-04   1.52483538e-03  -3.49363177e-04\n",
      "   3.94065675e-04   1.34910769e-03   5.41910600e-05  -9.35627748e-04\n",
      "   5.18974935e-04  -1.71864392e-04  -3.09305850e-04  -2.00188329e-04\n",
      "  -3.10071054e-04   3.05474405e-04  -6.55355308e-04   6.69988388e-05\n",
      "  -4.61183404e-04   1.25359769e-04   1.97399940e-05  -4.39460943e-04\n",
      "   1.61439521e-05  -8.45735334e-04  -2.99229267e-04   4.42977052e-04\n",
      "   3.50286381e-05  -9.50126546e-05  -3.91690462e-04  -4.58243969e-05\n",
      "   2.13846702e-03  -1.00423507e-03   1.37971487e-03   1.29519787e-03\n",
      "   3.83693037e-04  -5.13627095e-04  -4.84767524e-04   3.17101061e-04\n",
      "  -2.16755188e-03  -1.97960718e-03  -3.96271559e-04   3.06899006e-04\n",
      "   4.03368588e-04  -2.72166237e-04   1.93501682e-04   4.57238782e-04\n",
      "   2.34182836e-04   3.36368141e-04  -7.01995994e-05  -1.85965963e-03\n",
      "  -8.54194389e-05   3.47877132e-04   1.99232413e-03   8.98154431e-04\n",
      "  -7.20468210e-05  -1.26544496e-05  -3.62850417e-05   6.17268643e-04\n",
      "   3.87598443e-04  -2.83941132e-04   1.92485242e-04  -1.18588613e-04\n",
      "  -2.74105259e-04  -7.01136198e-05  -1.06897111e-03   2.44394804e-04\n",
      "   3.34935549e-04   4.39758968e-04   1.27874759e-05   4.61041222e-04\n",
      "   1.31032715e-04  -5.51383530e-04   2.33472789e-04  -1.52033196e-03\n",
      "  -7.73298226e-04  -3.34365227e-04  -2.82297934e-05  -4.51713417e-04\n",
      "   2.05384051e-05   7.42738206e-04  -1.37589037e-04  -1.56648445e-04\n",
      "   1.45640227e-05   6.35817125e-05   1.78370376e-05   1.16599282e-04\n",
      "  -5.49358661e-04   1.09568647e-03  -3.46504421e-04   8.27023406e-06\n",
      "   7.57054580e-05   1.83411739e-05  -2.72875821e-05   3.99059081e-04\n",
      "  -6.11614126e-04   8.56937428e-05  -9.61560718e-05  -1.41622779e-04\n",
      "  -4.71235264e-04   1.64402790e-04  -1.06610590e-04   2.24460749e-05\n",
      "  -2.86631653e-04   8.28388079e-04  -9.15485177e-04  -5.00018194e-05\n",
      "   1.67118601e-03  -8.01425739e-05   2.43153372e-03  -3.85948659e-04\n",
      "   2.47208544e-04  -1.44217610e-03   3.96493200e-07   1.68440851e-03\n",
      "   4.53059557e-06   4.53991084e-04  -8.06576393e-05  -4.70899873e-04\n",
      "  -4.83147399e-04   1.23918419e-04   2.83429130e-04   9.89596229e-05\n",
      "  -2.81873455e-03   2.96481030e-03  -6.37678475e-04  -1.82465938e-05\n",
      "   3.86726824e-03   3.83206263e-05   8.71752838e-04   2.54196516e-04\n",
      "  -9.13317441e-04  -1.44403855e-03  -4.06522159e-06   8.79261132e-04\n",
      "  -1.51024197e-04   1.16531655e-03  -1.42815829e-03   2.83254920e-05\n",
      "   1.02667809e-03   1.26158467e-04  -2.31081624e-03  -1.81299782e-04\n",
      "  -2.67245134e-03  -2.58814213e-04   1.13463928e-05   1.28328647e-04\n",
      "   3.33416785e-04  -5.13132363e-04   1.24812854e-04  -2.23800115e-04\n",
      "  -3.00538390e-06  -3.52741789e-07  -2.32450933e-05   1.34522763e-04\n",
      "  -1.65541622e-03   8.71264841e-05   9.69297405e-04  -3.73588358e-04\n",
      "  -8.41245685e-04  -8.38106647e-04  -4.43926052e-04   1.36828314e-04\n",
      "  -2.90637275e-04  -2.22705210e-04  -3.27674809e-04   1.13116420e-04\n",
      "   5.76929494e-05   7.15556212e-05  -2.86964470e-03   3.30639813e-04\n",
      "  -3.44422192e-05  -3.45384606e-04  -1.25067772e-04   1.82002268e-03\n",
      "  -7.86516590e-04  -9.98174647e-04  -1.62379055e-06  -2.25828174e-04\n",
      "   5.44786415e-04   1.41147366e-04  -3.75991015e-05  -5.81064302e-06\n",
      "   3.67809554e-04  -6.44532133e-04  -6.07333578e-04   8.19568679e-04\n",
      "  -5.92086563e-07   2.21654193e-04  -1.55162572e-03  -4.29587288e-04\n",
      "  -1.21629363e-03  -2.81196371e-04   7.02052750e-04   5.63818556e-04\n",
      "   9.51725256e-05  -6.30062793e-05  -7.36607164e-04  -4.70903368e-04\n",
      "   3.10405425e-08  -2.00037638e-04   5.27619769e-04   4.76761819e-04\n",
      "   4.91909201e-04  -7.19076417e-04   5.58266280e-05  -4.65352705e-05\n",
      "   1.44553735e-03  -1.06676833e-04  -4.00045916e-05   4.68212625e-03\n",
      "  -1.45036707e-04   1.31947914e-04   2.86070176e-05   1.93244479e-04\n",
      "  -1.35193598e-03  -2.16983329e-04   3.77467914e-04   4.28692616e-07\n",
      "  -2.56856645e-05   2.61354159e-04  -3.46234728e-05   3.81978291e-05\n",
      "  -2.87020194e-05   1.19989650e-03  -7.95469811e-06  -1.95412080e-03\n",
      "  -5.83691337e-05  -1.55331680e-04   4.91406299e-04  -5.81768385e-04\n",
      "  -5.18038707e-03   8.26167619e-06   4.81183625e-04  -4.53616748e-05\n",
      "   1.13722131e-03   1.08994676e-03   8.62739834e-04  -2.68749625e-04\n",
      "   2.48784580e-05  -1.50985735e-03  -6.08794896e-04   6.35447903e-06\n",
      "  -6.19176668e-05  -1.66011807e-04   4.72018796e-04  -7.21247389e-05\n",
      "   2.78567115e-04  -1.35942074e-04  -1.93959779e-04   1.90007921e-05\n",
      "  -1.04210533e-04  -1.06936077e-04  -3.51499512e-05   3.22249614e-04\n",
      "   2.28856770e-04  -6.91338298e-04  -2.41678065e-04   2.09258589e-04\n",
      "  -4.97111085e-03  -2.56222437e-05   1.94502458e-04  -3.58583507e-04\n",
      "  -6.18726213e-04  -8.51938668e-04   2.34522105e-05  -1.80908055e-05\n",
      "  -1.14362966e-03   4.61718865e-04  -4.89037801e-05  -3.83323953e-06\n",
      "   2.09027309e-04   2.19830904e-03   3.67172554e-04  -1.04555030e-04\n",
      "  -3.90086201e-05   2.81436276e-04   1.70955934e-04   1.30637442e-03\n",
      "  -1.84351760e-06  -1.11849168e-03  -1.33335796e-04  -1.49597508e-04\n",
      "  -6.21475733e-06  -4.82312256e-04   6.68141402e-05  -5.51087468e-05\n",
      "  -1.72430635e-04   3.37271320e-04  -3.50425412e-04   4.08514409e-04\n",
      "  -2.04060832e-04   7.16778999e-05  -2.28215639e-04  -3.46556347e-04\n",
      "   1.70619755e-04  -1.43535181e-03   3.63496758e-04  -3.11135528e-04\n",
      "  -6.58273454e-04   1.26760752e-04   7.80316891e-04   5.89212862e-04\n",
      "   5.08426467e-04   1.18277215e-03  -7.25898517e-04   7.50997217e-04\n",
      "  -1.12814245e-03   9.50942528e-04  -2.33019405e-04  -2.40033565e-03\n",
      "  -1.50677568e-03   2.98804974e-04  -1.23818539e-04  -6.17652563e-04\n",
      "   4.05309344e-04  -3.41627979e-04  -1.15217617e-04  -1.73751073e-05\n",
      "   2.69975950e-03   4.11521555e-05  -6.34438451e-04  -1.64313579e-04\n",
      "   7.62829647e-04  -7.71203586e-04   1.71811852e-03   1.36821719e-03\n",
      "   4.18232531e-05   9.90558790e-05   1.02025690e-03   4.27105960e-07]\n",
      "dx difference: "
     ]
    },
    {
     "ename": "TypeError",
     "evalue": "unsupported operand type(s) for -: 'float' and 'NoneType'",
     "output_type": "error",
     "traceback": [
      "\u001b[0;31m---------------------------------------------------------------------------\u001b[0m",
      "\u001b[0;31mTypeError\u001b[0m                                 Traceback (most recent call last)",
      "\u001b[0;32m<ipython-input-53-e2bfd7c86353>\u001b[0m in \u001b[0;36m<module>\u001b[0;34m()\u001b[0m\n\u001b[1;32m     14\u001b[0m \u001b[0mt3\u001b[0m \u001b[0;34m=\u001b[0m \u001b[0mtime\u001b[0m\u001b[0;34m.\u001b[0m\u001b[0mtime\u001b[0m\u001b[0;34m(\u001b[0m\u001b[0;34m)\u001b[0m\u001b[0;34m\u001b[0m\u001b[0m\n\u001b[1;32m     15\u001b[0m \u001b[0;34m\u001b[0m\u001b[0m\n\u001b[0;32m---> 16\u001b[0;31m \u001b[0;32mprint\u001b[0m \u001b[0;34m'dx difference: '\u001b[0m\u001b[0;34m,\u001b[0m \u001b[0mrel_error\u001b[0m\u001b[0;34m(\u001b[0m\u001b[0mdx1\u001b[0m\u001b[0;34m,\u001b[0m \u001b[0mdx2\u001b[0m\u001b[0;34m)\u001b[0m\u001b[0;34m\u001b[0m\u001b[0m\n\u001b[0m\u001b[1;32m     17\u001b[0m \u001b[0;32mprint\u001b[0m \u001b[0;34m'dgamma difference: '\u001b[0m\u001b[0;34m,\u001b[0m \u001b[0mrel_error\u001b[0m\u001b[0;34m(\u001b[0m\u001b[0mdgamma1\u001b[0m\u001b[0;34m,\u001b[0m \u001b[0mdgamma2\u001b[0m\u001b[0;34m)\u001b[0m\u001b[0;34m\u001b[0m\u001b[0m\n\u001b[1;32m     18\u001b[0m \u001b[0;32mprint\u001b[0m \u001b[0;34m'dbeta difference: '\u001b[0m\u001b[0;34m,\u001b[0m \u001b[0mrel_error\u001b[0m\u001b[0;34m(\u001b[0m\u001b[0mdbeta1\u001b[0m\u001b[0;34m,\u001b[0m \u001b[0mdbeta2\u001b[0m\u001b[0;34m)\u001b[0m\u001b[0;34m\u001b[0m\u001b[0m\n",
      "\u001b[0;32m<ipython-input-3-fd7116337b4c>\u001b[0m in \u001b[0;36mrel_error\u001b[0;34m(x, y)\u001b[0m\n\u001b[1;32m     21\u001b[0m \u001b[0;32mdef\u001b[0m \u001b[0mrel_error\u001b[0m\u001b[0;34m(\u001b[0m\u001b[0mx\u001b[0m\u001b[0;34m,\u001b[0m \u001b[0my\u001b[0m\u001b[0;34m)\u001b[0m\u001b[0;34m:\u001b[0m\u001b[0;34m\u001b[0m\u001b[0m\n\u001b[1;32m     22\u001b[0m   \u001b[0;34m\"\"\" returns relative error \"\"\"\u001b[0m\u001b[0;34m\u001b[0m\u001b[0m\n\u001b[0;32m---> 23\u001b[0;31m   \u001b[0;32mreturn\u001b[0m \u001b[0mnp\u001b[0m\u001b[0;34m.\u001b[0m\u001b[0mmax\u001b[0m\u001b[0;34m(\u001b[0m\u001b[0mnp\u001b[0m\u001b[0;34m.\u001b[0m\u001b[0mabs\u001b[0m\u001b[0;34m(\u001b[0m\u001b[0mx\u001b[0m \u001b[0;34m-\u001b[0m \u001b[0my\u001b[0m\u001b[0;34m)\u001b[0m \u001b[0;34m/\u001b[0m \u001b[0;34m(\u001b[0m\u001b[0mnp\u001b[0m\u001b[0;34m.\u001b[0m\u001b[0mmaximum\u001b[0m\u001b[0;34m(\u001b[0m\u001b[0;36m1e-8\u001b[0m\u001b[0;34m,\u001b[0m \u001b[0mnp\u001b[0m\u001b[0;34m.\u001b[0m\u001b[0mabs\u001b[0m\u001b[0;34m(\u001b[0m\u001b[0mx\u001b[0m\u001b[0;34m)\u001b[0m \u001b[0;34m+\u001b[0m \u001b[0mnp\u001b[0m\u001b[0;34m.\u001b[0m\u001b[0mabs\u001b[0m\u001b[0;34m(\u001b[0m\u001b[0my\u001b[0m\u001b[0;34m)\u001b[0m\u001b[0;34m)\u001b[0m\u001b[0;34m)\u001b[0m\u001b[0;34m)\u001b[0m\u001b[0;34m\u001b[0m\u001b[0m\n\u001b[0m",
      "\u001b[0;31mTypeError\u001b[0m: unsupported operand type(s) for -: 'float' and 'NoneType'"
     ]
    }
   ],
   "source": [
    "N, D = 100, 500\n",
    "x = 5 * np.random.randn(N, D) + 12\n",
    "gamma = np.random.randn(D)\n",
    "beta = np.random.randn(D)\n",
    "dout = np.random.randn(N, D)\n",
    "\n",
    "bn_param = {'mode': 'train'}\n",
    "out, cache = batchnorm_forward(x, gamma, beta, bn_param)\n",
    "\n",
    "t1 = time.time()\n",
    "dx1, dgamma1, dbeta1 = batchnorm_backward(dout, cache)\n",
    "t2 = time.time()\n",
    "dx2, dgamma2, dbeta2 = batchnorm_backward_alt(dout, cache)\n",
    "t3 = time.time()\n",
    "\n",
    "print 'dx difference: ', rel_error(dx1, dx2)\n",
    "print 'dgamma difference: ', rel_error(dgamma1, dgamma2)\n",
    "print 'dbeta difference: ', rel_error(dbeta1, dbeta2)\n",
    "print 'speedup: %.2fx' % ((t2 - t1) / (t3 - t2))"
   ]
  },
  {
   "cell_type": "markdown",
   "metadata": {},
   "source": [
    "## Fully Connected Nets with Batch Normalization\n",
    "Now that you have a working implementation for batch normalization, go back to your `FullyConnectedNet` in the file `cs2312n/classifiers/fc_net.py`. Modify your implementation to add batch normalization.\n",
    "\n",
    "Concretely, when the flag `use_batchnorm` is `True` in the constructor, you should insert a batch normalization layer before each ReLU nonlinearity. The outputs from the last layer of the network should not be normalized. Once you are done, run the following to gradient-check your implementation.\n",
    "\n",
    "HINT: You might find it useful to define an additional helper layer similar to those in the file `cs231n/layer_utils.py`. If you decide to do so, do it in the file `cs231n/classifiers/fc_net.py`."
   ]
  },
  {
   "cell_type": "code",
   "execution_count": null,
   "metadata": {
    "collapsed": false
   },
   "outputs": [],
   "source": [
    "N, D, H1, H2, C = 2, 15, 20, 30, 10\n",
    "X = np.random.randn(N, D)\n",
    "y = np.random.randint(C, size=(N,))\n",
    "\n",
    "for reg in [0, 3.14]:\n",
    "  print 'Running check with reg = ', reg\n",
    "  model = FullyConnectedNet([H1, H2], input_dim=D, num_classes=C,\n",
    "                            reg=reg, weight_scale=5e-2, dtype=np.float64,\n",
    "                            use_batchnorm=True)\n",
    "\n",
    "  loss, grads = model.loss(X, y)\n",
    "  print 'Initial loss: ', loss\n",
    "\n",
    "  for name in sorted(grads):\n",
    "    f = lambda _: model.loss(X, y)[0]\n",
    "    grad_num = eval_numerical_gradient(f, model.params[name], verbose=False, h=1e-5)\n",
    "    print '%s relative error: %.2e' % (name, rel_error(grad_num, grads[name]))\n",
    "  if reg == 0: print"
   ]
  },
  {
   "cell_type": "markdown",
   "metadata": {},
   "source": [
    "# Batchnorm for deep networks\n",
    "Run the following to train a six-layer network on a subset of 1000 training examples both with and without batch normalization."
   ]
  },
  {
   "cell_type": "code",
   "execution_count": null,
   "metadata": {
    "collapsed": false
   },
   "outputs": [],
   "source": [
    "# Try training a very deep net with batchnorm\n",
    "hidden_dims = [100, 100, 100, 100, 100]\n",
    "\n",
    "num_train = 1000\n",
    "small_data = {\n",
    "  'X_train': data['X_train'][:num_train],\n",
    "  'y_train': data['y_train'][:num_train],\n",
    "  'X_val': data['X_val'],\n",
    "  'y_val': data['y_val'],\n",
    "}\n",
    "\n",
    "weight_scale = 2e-2\n",
    "bn_model = FullyConnectedNet(hidden_dims, weight_scale=weight_scale, use_batchnorm=True)\n",
    "model = FullyConnectedNet(hidden_dims, weight_scale=weight_scale, use_batchnorm=False)\n",
    "\n",
    "bn_solver = Solver(bn_model, small_data,\n",
    "                num_epochs=10, batch_size=50,\n",
    "                update_rule='adam',\n",
    "                optim_config={\n",
    "                  'learning_rate': 1e-3,\n",
    "                },\n",
    "                verbose=True, print_every=200)\n",
    "bn_solver.train()\n",
    "\n",
    "solver = Solver(model, small_data,\n",
    "                num_epochs=10, batch_size=50,\n",
    "                update_rule='adam',\n",
    "                optim_config={\n",
    "                  'learning_rate': 1e-3,\n",
    "                },\n",
    "                verbose=True, print_every=200)\n",
    "solver.train()"
   ]
  },
  {
   "cell_type": "markdown",
   "metadata": {},
   "source": [
    "Run the following to visualize the results from two networks trained above. You should find that using batch normalization helps the network to converge much faster."
   ]
  },
  {
   "cell_type": "code",
   "execution_count": null,
   "metadata": {
    "collapsed": false
   },
   "outputs": [],
   "source": [
    "plt.subplot(3, 1, 1)\n",
    "plt.title('Training loss')\n",
    "plt.xlabel('Iteration')\n",
    "\n",
    "plt.subplot(3, 1, 2)\n",
    "plt.title('Training accuracy')\n",
    "plt.xlabel('Epoch')\n",
    "\n",
    "plt.subplot(3, 1, 3)\n",
    "plt.title('Validation accuracy')\n",
    "plt.xlabel('Epoch')\n",
    "\n",
    "plt.subplot(3, 1, 1)\n",
    "plt.plot(solver.loss_history, 'o', label='baseline')\n",
    "plt.plot(bn_solver.loss_history, 'o', label='batchnorm')\n",
    "\n",
    "plt.subplot(3, 1, 2)\n",
    "plt.plot(solver.train_acc_history, '-o', label='baseline')\n",
    "plt.plot(bn_solver.train_acc_history, '-o', label='batchnorm')\n",
    "\n",
    "plt.subplot(3, 1, 3)\n",
    "plt.plot(solver.val_acc_history, '-o', label='baseline')\n",
    "plt.plot(bn_solver.val_acc_history, '-o', label='batchnorm')\n",
    "  \n",
    "for i in [1, 2, 3]:\n",
    "  plt.subplot(3, 1, i)\n",
    "  plt.legend(loc='upper center', ncol=4)\n",
    "plt.gcf().set_size_inches(15, 15)\n",
    "plt.show()"
   ]
  },
  {
   "cell_type": "markdown",
   "metadata": {},
   "source": [
    "# Batch normalization and initialization\n",
    "We will now run a small experiment to study the interaction of batch normalization and weight initialization.\n",
    "\n",
    "The first cell will train 8-layer networks both with and without batch normalization using different scales for weight initialization. The second layer will plot training accuracy, validation set accuracy, and training loss as a function of the weight initialization scale."
   ]
  },
  {
   "cell_type": "code",
   "execution_count": null,
   "metadata": {
    "collapsed": false
   },
   "outputs": [],
   "source": [
    "# Try training a very deep net with batchnorm\n",
    "hidden_dims = [50, 50, 50, 50, 50, 50, 50]\n",
    "\n",
    "num_train = 1000\n",
    "small_data = {\n",
    "  'X_train': data['X_train'][:num_train],\n",
    "  'y_train': data['y_train'][:num_train],\n",
    "  'X_val': data['X_val'],\n",
    "  'y_val': data['y_val'],\n",
    "}\n",
    "\n",
    "bn_solvers = {}\n",
    "solvers = {}\n",
    "weight_scales = np.logspace(-4, 0, num=20)\n",
    "for i, weight_scale in enumerate(weight_scales):\n",
    "  print 'Running weight scale %d / %d' % (i + 1, len(weight_scales))\n",
    "  bn_model = FullyConnectedNet(hidden_dims, weight_scale=weight_scale, use_batchnorm=True)\n",
    "  model = FullyConnectedNet(hidden_dims, weight_scale=weight_scale, use_batchnorm=False)\n",
    "\n",
    "  bn_solver = Solver(bn_model, small_data,\n",
    "                  num_epochs=10, batch_size=50,\n",
    "                  update_rule='adam',\n",
    "                  optim_config={\n",
    "                    'learning_rate': 1e-3,\n",
    "                  },\n",
    "                  verbose=False, print_every=200)\n",
    "  bn_solver.train()\n",
    "  bn_solvers[weight_scale] = bn_solver\n",
    "\n",
    "  solver = Solver(model, small_data,\n",
    "                  num_epochs=10, batch_size=50,\n",
    "                  update_rule='adam',\n",
    "                  optim_config={\n",
    "                    'learning_rate': 1e-3,\n",
    "                  },\n",
    "                  verbose=False, print_every=200)\n",
    "  solver.train()\n",
    "  solvers[weight_scale] = solver"
   ]
  },
  {
   "cell_type": "code",
   "execution_count": null,
   "metadata": {
    "collapsed": false
   },
   "outputs": [],
   "source": [
    "# Plot results of weight scale experiment\n",
    "best_train_accs, bn_best_train_accs = [], []\n",
    "best_val_accs, bn_best_val_accs = [], []\n",
    "final_train_loss, bn_final_train_loss = [], []\n",
    "\n",
    "for ws in weight_scales:\n",
    "  best_train_accs.append(max(solvers[ws].train_acc_history))\n",
    "  bn_best_train_accs.append(max(bn_solvers[ws].train_acc_history))\n",
    "  \n",
    "  best_val_accs.append(max(solvers[ws].val_acc_history))\n",
    "  bn_best_val_accs.append(max(bn_solvers[ws].val_acc_history))\n",
    "  \n",
    "  final_train_loss.append(np.mean(solvers[ws].loss_history[-100:]))\n",
    "  bn_final_train_loss.append(np.mean(bn_solvers[ws].loss_history[-100:]))\n",
    "  \n",
    "plt.subplot(3, 1, 1)\n",
    "plt.title('Best val accuracy vs weight initialization scale')\n",
    "plt.xlabel('Weight initialization scale')\n",
    "plt.ylabel('Best val accuracy')\n",
    "plt.semilogx(weight_scales, best_val_accs, '-o', label='baseline')\n",
    "plt.semilogx(weight_scales, bn_best_val_accs, '-o', label='batchnorm')\n",
    "plt.legend(ncol=2, loc='lower right')\n",
    "\n",
    "plt.subplot(3, 1, 2)\n",
    "plt.title('Best train accuracy vs weight initialization scale')\n",
    "plt.xlabel('Weight initialization scale')\n",
    "plt.ylabel('Best training accuracy')\n",
    "plt.semilogx(weight_scales, best_train_accs, '-o', label='baseline')\n",
    "plt.semilogx(weight_scales, bn_best_train_accs, '-o', label='batchnorm')\n",
    "plt.legend()\n",
    "\n",
    "plt.subplot(3, 1, 3)\n",
    "plt.title('Final training loss vs weight initialization scale')\n",
    "plt.xlabel('Weight initialization scale')\n",
    "plt.ylabel('Final training loss')\n",
    "plt.semilogx(weight_scales, final_train_loss, '-o', label='baseline')\n",
    "plt.semilogx(weight_scales, bn_final_train_loss, '-o', label='batchnorm')\n",
    "plt.legend()\n",
    "\n",
    "plt.gcf().set_size_inches(10, 15)\n",
    "plt.show()"
   ]
  },
  {
   "cell_type": "markdown",
   "metadata": {},
   "source": [
    "# Question:\n",
    "Describe the results of this experiment, and try to give a reason why the experiment gave the results that it did."
   ]
  },
  {
   "cell_type": "markdown",
   "metadata": {},
   "source": [
    "# Answer:\n"
   ]
  }
 ],
 "metadata": {
  "kernelspec": {
   "display_name": "Python 2",
   "language": "python",
   "name": "python2"
  },
  "language_info": {
   "codemirror_mode": {
    "name": "ipython",
    "version": 2
   },
   "file_extension": ".py",
   "mimetype": "text/x-python",
   "name": "python",
   "nbconvert_exporter": "python",
   "pygments_lexer": "ipython2",
   "version": "2.7.2"
  }
 },
 "nbformat": 4,
 "nbformat_minor": 0
}
