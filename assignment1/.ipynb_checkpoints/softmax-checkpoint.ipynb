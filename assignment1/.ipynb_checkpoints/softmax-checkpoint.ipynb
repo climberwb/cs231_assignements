{
 "cells": [
  {
   "cell_type": "markdown",
   "metadata": {},
   "source": [
    "# Softmax exercise\n",
    "\n",
    "*Complete and hand in this completed worksheet (including its outputs and any supporting code outside of the worksheet) with your assignment submission. For more details see the [assignments page](http://vision.stanford.edu/teaching/cs231n/assignments.html) on the course website.*\n",
    "\n",
    "This exercise is analogous to the SVM exercise. You will:\n",
    "\n",
    "- implement a fully-vectorized **loss function** for the Softmax classifier\n",
    "- implement the fully-vectorized expression for its **analytic gradient**\n",
    "- **check your implementation** with numerical gradient\n",
    "- use a validation set to **tune the learning rate and regularization** strength\n",
    "- **optimize** the loss function with **SGD**\n",
    "- **visualize** the final learned weights\n"
   ]
  },
  {
   "cell_type": "code",
   "execution_count": 1,
   "metadata": {
    "collapsed": false
   },
   "outputs": [],
   "source": [
    "import random\n",
    "import numpy as np\n",
    "from cs231n.data_utils import load_CIFAR10\n",
    "import matplotlib.pyplot as plt\n",
    "%matplotlib inline\n",
    "plt.rcParams['figure.figsize'] = (10.0, 8.0) # set default size of plots\n",
    "plt.rcParams['image.interpolation'] = 'nearest'\n",
    "plt.rcParams['image.cmap'] = 'gray'\n",
    "\n",
    "# for auto-reloading extenrnal modules\n",
    "# see http://stackoverflow.com/questions/1907993/autoreload-of-modules-in-ipython\n",
    "%load_ext autoreload\n",
    "%autoreload 2"
   ]
  },
  {
   "cell_type": "code",
   "execution_count": 2,
   "metadata": {
    "collapsed": false
   },
   "outputs": [
    {
     "name": "stdout",
     "output_type": "stream",
     "text": [
      "Train data shape:  (49000, 3073)\n",
      "Train labels shape:  (49000,)\n",
      "Validation data shape:  (1000, 3073)\n",
      "Validation labels shape:  (1000,)\n",
      "Test data shape:  (1000, 3073)\n",
      "Test labels shape:  (1000,)\n",
      "dev data shape:  (500, 3073)\n",
      "dev labels shape:  (500,)\n"
     ]
    }
   ],
   "source": [
    "def get_CIFAR10_data(num_training=49000, num_validation=1000, num_test=1000, num_dev=500):\n",
    "  \"\"\"\n",
    "  Load the CIFAR-10 dataset from disk and perform preprocessing to prepare\n",
    "  it for the linear classifier. These are the same steps as we used for the\n",
    "  SVM, but condensed to a single function.  \n",
    "  \"\"\"\n",
    "  # Load the raw CIFAR-10 data\n",
    "  cifar10_dir = 'cs231n/datasets/cifar-10-batches-py'\n",
    "  X_train, y_train, X_test, y_test = load_CIFAR10(cifar10_dir)\n",
    "  \n",
    "  # subsample the data\n",
    "  mask = range(num_training, num_training + num_validation)\n",
    "  X_val = X_train[mask]\n",
    "  y_val = y_train[mask]\n",
    "  mask = range(num_training)\n",
    "  X_train = X_train[mask]\n",
    "  y_train = y_train[mask]\n",
    "  mask = range(num_test)\n",
    "  X_test = X_test[mask]\n",
    "  y_test = y_test[mask]\n",
    "  mask = np.random.choice(num_training, num_dev, replace=False)\n",
    "  X_dev = X_train[mask]\n",
    "  y_dev = y_train[mask]\n",
    "  \n",
    "  # Preprocessing: reshape the image data into rows\n",
    "  X_train = np.reshape(X_train, (X_train.shape[0], -1))\n",
    "  X_val = np.reshape(X_val, (X_val.shape[0], -1))\n",
    "  X_test = np.reshape(X_test, (X_test.shape[0], -1))\n",
    "  X_dev = np.reshape(X_dev, (X_dev.shape[0], -1))\n",
    "  \n",
    "  # Normalize the data: subtract the mean image\n",
    "  mean_image = np.mean(X_train, axis = 0)\n",
    "  X_train -= mean_image\n",
    "  X_val -= mean_image\n",
    "  X_test -= mean_image\n",
    "  X_dev -= mean_image\n",
    "  \n",
    "  # add bias dimension and transform into columns\n",
    "  X_train = np.hstack([X_train, np.ones((X_train.shape[0], 1))])\n",
    "  X_val = np.hstack([X_val, np.ones((X_val.shape[0], 1))])\n",
    "  X_test = np.hstack([X_test, np.ones((X_test.shape[0], 1))])\n",
    "  X_dev = np.hstack([X_dev, np.ones((X_dev.shape[0], 1))])\n",
    "  \n",
    "  return X_train, y_train, X_val, y_val, X_test, y_test, X_dev, y_dev\n",
    "\n",
    "\n",
    "# Invoke the above function to get our data.\n",
    "X_train, y_train, X_val, y_val, X_test, y_test, X_dev, y_dev = get_CIFAR10_data()\n",
    "print 'Train data shape: ', X_train.shape\n",
    "print 'Train labels shape: ', y_train.shape\n",
    "print 'Validation data shape: ', X_val.shape\n",
    "print 'Validation labels shape: ', y_val.shape\n",
    "print 'Test data shape: ', X_test.shape\n",
    "print 'Test labels shape: ', y_test.shape\n",
    "print 'dev data shape: ', X_dev.shape\n",
    "print 'dev labels shape: ', y_dev.shape"
   ]
  },
  {
   "cell_type": "markdown",
   "metadata": {},
   "source": [
    "## Softmax Classifier\n",
    "\n",
    "Your code for this section will all be written inside **cs231n/classifiers/softmax.py**. \n"
   ]
  },
  {
   "cell_type": "code",
   "execution_count": 3,
   "metadata": {
    "collapsed": false
   },
   "outputs": [
    {
     "name": "stdout",
     "output_type": "stream",
     "text": [
      "loss: 2.343016\n",
      "sanity check: 2.302585\n"
     ]
    }
   ],
   "source": [
    "# First implement the naive softmax loss function with nested loops.\n",
    "# Open the file cs231n/classifiers/softmax.py and implement the\n",
    "# softmax_loss_naive function.\n",
    "\n",
    "from cs231n.classifiers.softmax import softmax_loss_naive\n",
    "import time\n",
    "\n",
    "# Generate a random softmax weight matrix and use it to compute the loss.\n",
    "W = np.random.randn(3073, 10) * 0.0001\n",
    "loss, grad = softmax_loss_naive(W, X_dev, y_dev, 0.0)\n",
    "\n",
    "# As a rough sanity check, our loss should be something close to -log(0.1).\n",
    "print 'loss: %f' % loss\n",
    "print 'sanity check: %f' % (-np.log(0.1))"
   ]
  },
  {
   "cell_type": "markdown",
   "metadata": {},
   "source": [
    "## Inline Question 1:\n",
    "Why do we expect our loss to be close to -log(0.1)? Explain briefly.**\n",
    "\n",
    "**Your answer:** *Fill this in*\n",
    "We should expect the loss to be -log(0.1) because the weights in W are random. Inside the log is the probability of a given picture being in a certain class. Since there are ten classes the probability for a given picture being in a specified class is 0.1.\n"
   ]
  },
  {
   "cell_type": "code",
   "execution_count": 4,
   "metadata": {
    "collapsed": false
   },
   "outputs": [
    {
     "name": "stdout",
     "output_type": "stream",
     "text": [
      "numerical: 0.219562 analytic: 0.219562, relative error: 1.153420e-07\n",
      "numerical: 2.890242 analytic: 2.890242, relative error: 1.223060e-09\n",
      "numerical: -2.622429 analytic: -2.622429, relative error: 1.229257e-08\n",
      "numerical: -0.279137 analytic: -0.279137, relative error: 8.534837e-08\n",
      "numerical: 0.773684 analytic: 0.773684, relative error: 3.071911e-08\n",
      "numerical: 1.181685 analytic: 1.181685, relative error: 2.815697e-08\n",
      "numerical: -0.083601 analytic: -0.083601, relative error: 2.835451e-07\n",
      "numerical: 2.601945 analytic: 2.601945, relative error: 1.001702e-08\n",
      "numerical: 1.228390 analytic: 1.228390, relative error: 3.570336e-08\n",
      "numerical: 0.686226 analytic: 0.686226, relative error: 7.013091e-08\n",
      "below is with regularization\n",
      "numerical: 0.786460 analytic: 0.786460, relative error: 5.940801e-08\n",
      "numerical: 2.090685 analytic: 2.090685, relative error: 5.055523e-09\n",
      "numerical: -1.712148 analytic: -1.712148, relative error: 1.622806e-08\n",
      "numerical: -1.838348 analytic: -1.838348, relative error: 8.075264e-09\n",
      "numerical: 1.434267 analytic: 1.434266, relative error: 2.626200e-08\n",
      "numerical: 1.351453 analytic: 1.351453, relative error: 3.773339e-08\n",
      "numerical: 1.028122 analytic: 1.028122, relative error: 6.417655e-09\n",
      "numerical: -1.275162 analytic: -1.275162, relative error: 3.825651e-08\n",
      "numerical: 1.314421 analytic: 1.314421, relative error: 2.606907e-08\n",
      "numerical: -1.865937 analytic: -1.865937, relative error: 7.118118e-09\n"
     ]
    }
   ],
   "source": [
    "# Complete the implementation of softmax_loss_naive and implement a (naive)\n",
    "# version of the gradient that uses nested loops.\n",
    "loss, grad = softmax_loss_naive(W, X_dev, y_dev, 0.0)\n",
    "\n",
    "# As we did for the SVM, use numeric gradient checking as a debugging tool.\n",
    "# The numeric gradient should be close to the analytic gradient.\n",
    "from cs231n.gradient_check import grad_check_sparse\n",
    "f = lambda w: softmax_loss_naive(w, X_dev, y_dev, 0.0)[0]\n",
    "grad_numerical = grad_check_sparse(f, W, grad, 10)\n",
    "print 'below is with regularization'\n",
    "# similar to SVM case, do another gradient check with regularization\n",
    "loss, grad = softmax_loss_naive(W, X_dev, y_dev, 1e2)\n",
    "f = lambda w: softmax_loss_naive(w, X_dev, y_dev, 1e2)[0]\n",
    "grad_numerical = grad_check_sparse(f, W, grad, 10)"
   ]
  },
  {
   "cell_type": "code",
   "execution_count": 5,
   "metadata": {
    "collapsed": false
   },
   "outputs": [
    {
     "name": "stdout",
     "output_type": "stream",
     "text": [
      "naive loss: 2.343016e+00 computed in 0.390851s\n",
      "vectorized loss: 2.343016e+00 computed in 0.042352s\n",
      "Loss difference: 0.000000\n",
      "Gradient difference: 0.000000\n"
     ]
    }
   ],
   "source": [
    "# Now that we have a naive implementation of the softmax loss function and its gradient,\n",
    "# implement a vectorized version in softmax_loss_vectorized.\n",
    "# The two versions should compute the same results, but the vectorized version should be\n",
    "# much faster.\n",
    "tic = time.time()\n",
    "loss_naive, grad_naive = softmax_loss_naive(W, X_dev, y_dev, 0.00001)\n",
    "toc = time.time()\n",
    "print 'naive loss: %e computed in %fs' % (loss_naive, toc - tic)\n",
    "\n",
    "from cs231n.classifiers.softmax import softmax_loss_vectorized\n",
    "tic = time.time()\n",
    "loss_vectorized, grad_vectorized = softmax_loss_vectorized(W, X_dev, y_dev, 0.00001)\n",
    "toc = time.time()\n",
    "print 'vectorized loss: %e computed in %fs' % (loss_vectorized, toc - tic)\n",
    "\n",
    "# As we did for the SVM, we use the Frobenius norm to compare the two versions\n",
    "# of the gradient.\n",
    "grad_difference = np.linalg.norm(grad_naive - grad_vectorized, ord='fro')\n",
    "print 'Loss difference: %f' % np.abs(loss_naive - loss_vectorized)\n",
    "print 'Gradient difference: %f' % grad_difference\n"
   ]
  },
  {
   "cell_type": "code",
   "execution_count": 9,
   "metadata": {
    "collapsed": false
   },
   "outputs": [
    {
     "name": "stdout",
     "output_type": "stream",
     "text": [
      "iteration 0 / 1500: loss 765.151498\n",
      "iteration 100 / 1500: loss 281.310971\n",
      "iteration 200 / 1500: loss 104.283536\n",
      "iteration 300 / 1500: loss 39.478084\n",
      "iteration 400 / 1500: loss 15.778117\n",
      "iteration 500 / 1500: loss 7.129168\n",
      "iteration 600 / 1500: loss 3.963511\n",
      "iteration 700 / 1500: loss 2.693183\n",
      "iteration 800 / 1500: loss 2.325734\n",
      "iteration 900 / 1500: loss 2.185582\n",
      "iteration 1000 / 1500: loss 2.082266\n",
      "iteration 1100 / 1500: loss 2.105744\n",
      "iteration 1200 / 1500: loss 2.066201\n",
      "iteration 1300 / 1500: loss 2.096231\n",
      "iteration 1400 / 1500: loss 2.088085\n",
      "iteration 0 / 1500: loss 7797.871397\n",
      "iteration 100 / 1500: loss 2.513422\n",
      "iteration 200 / 1500: loss 2.249670\n",
      "iteration 300 / 1500: loss 2.234193\n",
      "iteration 400 / 1500: loss 2.263457\n",
      "iteration 500 / 1500: loss 2.240684\n",
      "iteration 600 / 1500: loss 2.226361\n",
      "iteration 700 / 1500: loss 2.219420\n",
      "iteration 800 / 1500: loss 2.248531\n",
      "iteration 900 / 1500: loss 2.247058\n",
      "iteration 1000 / 1500: loss 2.239053\n",
      "iteration 1100 / 1500: loss 2.224281\n",
      "iteration 1200 / 1500: loss 2.249624\n",
      "iteration 1300 / 1500: loss 2.256888\n",
      "iteration 1400 / 1500: loss 2.250506\n",
      "iteration 0 / 1500: loss 770.612846\n",
      "iteration 100 / 1500: loss 6.910190\n",
      "iteration 200 / 1500: loss 2.143260\n",
      "iteration 300 / 1500: loss 2.099098\n",
      "iteration 400 / 1500: loss 2.064110\n",
      "iteration 500 / 1500: loss 2.089834\n",
      "iteration 600 / 1500: loss 2.121178\n",
      "iteration 700 / 1500: loss 2.035741\n",
      "iteration 800 / 1500: loss 2.103034\n",
      "iteration 900 / 1500: loss 2.104335\n",
      "iteration 1000 / 1500: loss 2.091516\n",
      "iteration 1100 / 1500: loss 2.069008\n",
      "iteration 1200 / 1500: loss 2.090059\n",
      "iteration 1300 / 1500: loss 2.117102\n",
      "iteration 1400 / 1500: loss 2.086937\n",
      "iteration 0 / 1500: loss 7613.642837\n",
      "iteration 100 / 1500: loss 2.247194\n",
      "iteration 200 / 1500: loss 2.218912\n",
      "iteration 300 / 1500: loss 2.245383\n",
      "iteration 400 / 1500: loss 2.237316\n",
      "iteration 500 / 1500: loss 2.248812\n",
      "iteration 600 / 1500: loss 2.243553\n",
      "iteration 700 / 1500: loss 2.248381\n",
      "iteration 800 / 1500: loss 2.229025\n",
      "iteration 900 / 1500: loss 2.246464\n",
      "iteration 1000 / 1500: loss 2.243984\n",
      "iteration 1100 / 1500: loss 2.214534\n",
      "iteration 1200 / 1500: loss 2.254138\n",
      "iteration 1300 / 1500: loss 2.246867\n",
      "iteration 1400 / 1500: loss 2.266048\n",
      "lr 1.000000e-07 reg 5.000000e+04 train accuracy: 0.329143 val accuracy: 0.336000\n",
      "lr 1.000000e-07 reg 5.000000e+05 train accuracy: 0.270061 val accuracy: 0.278000\n",
      "lr 5.000000e-07 reg 5.000000e+04 train accuracy: 0.310592 val accuracy: 0.327000\n",
      "lr 5.000000e-07 reg 5.000000e+05 train accuracy: 0.266347 val accuracy: 0.276000\n",
      "best validation accuracy achieved during cross-validation: 0.336000\n"
     ]
    }
   ],
   "source": [
    "# Use the validation set to tune hyperparameters (regularization strength and\n",
    "# learning rate). You should experiment with different ranges for the learning\n",
    "# rates and regularization strengths; if you are careful you should be able to\n",
    "# get a classification accuracy of over 0.35 on the validation set.\n",
    "from cs231n.classifiers import Softmax\n",
    "results = {}\n",
    "best_val = -1\n",
    "best_softmax = None\n",
    "learning_rates = [1e-7, 5e-7]\n",
    "regularization_strengths = [5e4, 1e6]\n",
    "\n",
    "################################################################################\n",
    "# TODO:                                                                        #\n",
    "# Use the validation set to set the learning rate and regularization strength. #\n",
    "# This should be identical to the validation that you did for the SVM; save    #\n",
    "# the best trained softmax classifer in best_softmax.                          #\n",
    "################################################################################\n",
    "for learning_rate in learning_rates:\n",
    "    for regularization_strength in regularization_strengths:\n",
    "  \n",
    "  # use a particular value of k and evaluation on validation data\n",
    "    \n",
    "        l_softmax = Softmax()\n",
    "        loss_hist = l_softmax.train(X_train, y_train, learning_rate=learning_rate, reg=regularization_strength,\n",
    "                          num_iters=1500, verbose=True)\n",
    "\n",
    "        Yval_predict = l_softmax.predict(X_val)\n",
    "        Ytrain_predict = l_softmax.predict(X_train)\n",
    "        validation_accuracy  = np.mean(Yval_predict == y_val)\n",
    "        training_accuracy = np.mean(Ytrain_predict == y_train)\n",
    "#         print 'val_accuracy: %f train_acc %f' % (validation_accuracy,training_accuracy)\n",
    "        results[(learning_rate,regularization_strength)] = (training_accuracy, validation_accuracy)\n",
    "\n",
    "        if validation_accuracy > best_val:\n",
    "            best_val = validation_accuracy\n",
    "            best_softmax = l_softmax\n",
    "################################################################################\n",
    "#                              END OF YOUR CODE                                #\n",
    "################################################################################\n",
    "    \n",
    "# Print out results.\n",
    "for lr, reg in sorted(results):\n",
    "    train_accuracy, val_accuracy = results[(lr, reg)]\n",
    "    print 'lr %e reg %e train accuracy: %f val accuracy: %f' % (\n",
    "                lr, reg, train_accuracy, val_accuracy)\n",
    "    \n",
    "print 'best validation accuracy achieved during cross-validation: %f' % best_val"
   ]
  },
  {
   "cell_type": "code",
   "execution_count": 8,
   "metadata": {
    "collapsed": false
   },
   "outputs": [
    {
     "name": "stdout",
     "output_type": "stream",
     "text": [
      "softmax on raw pixels final test set accuracy: 0.345000\n"
     ]
    }
   ],
   "source": [
    "# evaluate on test set\n",
    "# Evaluate the best softmax on test set\n",
    "y_test_pred = best_softmax.predict(X_test)\n",
    "test_accuracy = np.mean(y_test == y_test_pred)\n",
    "print 'softmax on raw pixels final test set accuracy: %f' % (test_accuracy, )"
   ]
  },
  {
   "cell_type": "code",
   "execution_count": null,
   "metadata": {
    "collapsed": false
   },
   "outputs": [],
   "source": [
    "# Visualize the learned weights for each class\n",
    "w = best_softmax.W[:-1,:] # strip out the bias\n",
    "w = w.reshape(32, 32, 3, 10)\n",
    "\n",
    "w_min, w_max = np.min(w), np.max(w)\n",
    "\n",
    "classes = ['plane', 'car', 'bird', 'cat', 'deer', 'dog', 'frog', 'horse', 'ship', 'truck']\n",
    "for i in xrange(10):\n",
    "  plt.subplot(2, 5, i + 1)\n",
    "  \n",
    "  # Rescale the weights to be between 0 and 255\n",
    "  wimg = 255.0 * (w[:, :, :, i].squeeze() - w_min) / (w_max - w_min)\n",
    "  plt.imshow(wimg.astype('uint8'))\n",
    "  plt.axis('off')\n",
    "  plt.title(classes[i])"
   ]
  },
  {
   "cell_type": "code",
   "execution_count": null,
   "metadata": {
    "collapsed": true
   },
   "outputs": [],
   "source": []
  },
  {
   "cell_type": "code",
   "execution_count": null,
   "metadata": {
    "collapsed": true
   },
   "outputs": [],
   "source": []
  }
 ],
 "metadata": {
  "anaconda-cloud": {},
  "kernelspec": {
   "display_name": "Python [conda env:python2]",
   "language": "python",
   "name": "conda-env-python2-py"
  },
  "language_info": {
   "codemirror_mode": {
    "name": "ipython",
    "version": 2
   },
   "file_extension": ".py",
   "mimetype": "text/x-python",
   "name": "python",
   "nbconvert_exporter": "python",
   "pygments_lexer": "ipython2",
   "version": "2.7.12"
  }
 },
 "nbformat": 4,
 "nbformat_minor": 0
}
